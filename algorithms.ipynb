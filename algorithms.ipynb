{
 "cells": [
  {
   "cell_type": "code",
   "execution_count": 1,
   "metadata": {},
   "outputs": [
    {
     "name": "stdout",
     "output_type": "stream",
     "text": [
      "Is this vulnerability exploitable (y/n): y\n",
      "What is the output of this vulnerability \n",
      "  (RCE, Shell, Credential, File Access, Info Leak, Privilege Escalation, Other): RCE\n",
      "Is this vulnerability useful to an attacker (y/n)?: y\n",
      "Why is this vulnerability useful\n",
      "  (long shelf life, large install base size, common or high value of targets, exploitable in default configuration, common accessability, no authentication, obscurity, chainability, undetectable, other): other\n",
      "Have you exploited or analyzed this vulnerability (used, developed, attempted, no)?: no\n",
      "Is this vulnerability urgent to patch (y/n): n\n",
      "Would you like to receive updates on this vulnerability as information is added (y/n)?: y\n"
     ]
    }
   ],
   "source": [
    "exploitable = input(\"Is this vulnerability exploitable (y/n): \")\n",
    "\n",
    "if exploitable == \"n\":\n",
    "    why_not_exploitable = input(\"Why is the vulnerability not exploitable \\n  (primitive, mitigations, code path inaccessible, attack scenario unrealistic)?: \")\n",
    "    if why_not_exploitable == \"primitive\":\n",
    "        utility = input(\"How could this vulnerability be used in conjunction with another \\n  (Info Leak, No Application): \")\n",
    "\n",
    "elif exploitable == \"y\":\n",
    "    utility = input(\"What is the output of this vulnerability \\n  (RCE, Shell, Credential, File Access, Info Leak, Privilege Escalation, Other): \")\n",
    "\n",
    "    utility = input(\"Is this vulnerability useful to an attacker (y/n)?: \")\n",
    "\n",
    "    if utility == \"y\":\n",
    "        utility_reason = input(\"Why is this vulnerability useful\\n  (long shelf life, large install base size, common or high value of targets, exploitable in default configuration, common accessability, no authentication, obscurity, chainability, undetectable, other): \")\n",
    "    else:\n",
    "        utility_reason = input(\"Why is this vulnerability not useful \\n  (short shelf life, small install base size, few or low-value targets, requres uncommon configuration, needs authentication, no exploit available): \")\n",
    "\n",
    "    usage = input(\"Have you exploited or analyzed this vulnerability (used, developed, attempted, no)?: \")\n",
    "    if usage != \"no\":\n",
    "        devel_effort = input(\"Estimated effort to develop an exploit for this vulnerability (1-5)?: \")\n",
    "        usage_effort = input(\"Estimated effort to use an exploit vulnerability (1-5)?: \")\n",
    "        reliability = input(\"How reliable is the exploit used for this vulnerability (1-5)?: \")\n",
    "        stability = input(\"How stable is the exploit used for this vulnerability (1-5)?: \")\n",
    "        mitigation_score = input(\"How dependable are mitigations for this vulnerability (1-5)?: \")\n",
    "\n",
    "urgent = input(\"Is this vulnerability urgent to patch (y/n): \")\n",
    "more_info = input(\"Would you like to receive updates on this vulnerability as information is added (y/n)?: \")"
   ]
  },
  {
   "cell_type": "code",
   "execution_count": null,
   "metadata": {},
   "outputs": [],
   "source": []
  }
 ],
 "metadata": {
  "kernelspec": {
   "display_name": "Python 3",
   "language": "python",
   "name": "python3"
  },
  "language_info": {
   "codemirror_mode": {
    "name": "ipython",
    "version": 3
   },
   "file_extension": ".py",
   "mimetype": "text/x-python",
   "name": "python",
   "nbconvert_exporter": "python",
   "pygments_lexer": "ipython3",
   "version": "3.7.4"
  }
 },
 "nbformat": 4,
 "nbformat_minor": 2
}
